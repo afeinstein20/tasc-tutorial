{
 "cells": [
  {
   "cell_type": "markdown",
   "metadata": {},
   "source": [
    "<a href=\"https://colab.research.google.com/github/afeinstein20/tasc-tutorial/blob/master/tasc5_notebook.ipynb\" target=\"_parent\"><img src=\"https://colab.research.google.com/assets/colab-badge.svg\" alt=\"Open In Colab\"/></a>"
   ]
  },
  {
   "cell_type": "code",
   "execution_count": null,
   "metadata": {
    "deletable": false,
    "editable": false,
    "run_control": {
     "frozen": true
    }
   },
   "outputs": [],
   "source": [
    "# Only necesary when running in Colab\n",
    "!pip install eleanor\n",
    "!pip install matplotlib\n",
    "!pip install numpy \n",
    "!pip install astropy\n",
    "!pip install bls.py\n",
    "!pip install stella"
   ]
  },
  {
   "cell_type": "code",
   "execution_count": 1,
   "metadata": {},
   "outputs": [
    {
     "name": "stdout",
     "output_type": "stream",
     "text": [
      "Created TAP+ (v1.0.1) - Connection:\n",
      "\tHost: gea.esac.esa.int\n",
      "\tUse HTTPS: False\n",
      "\tPort: 80\n",
      "\tSSL Port: 443\n"
     ]
    },
    {
     "name": "stderr",
     "output_type": "stream",
     "text": [
      "/anaconda3/lib/python3.6/site-packages/h5py/__init__.py:36: FutureWarning: Conversion of the second argument of issubdtype from `float` to `np.floating` is deprecated. In future, it will be treated as `np.float64 == np.dtype(float).type`.\n",
      "  from ._conv import register_converters as _register_converters\n",
      "/anaconda3/lib/python3.6/importlib/_bootstrap.py:219: RuntimeWarning: numpy.ufunc size changed, may indicate binary incompatibility. Expected 216, got 192\n",
      "  return f(*args, **kwds)\n",
      "/anaconda3/lib/python3.6/importlib/_bootstrap.py:219: ImportWarning: can't resolve package from __spec__ or __package__, falling back on __name__ and __path__\n",
      "  return f(*args, **kwds)\n"
     ]
    }
   ],
   "source": [
    "import stella\n",
    "import eleanor\n",
    "import numpy as np\n",
    "from bls import BLS\n",
    "import lightkurve as lk\n",
    "from astropy import units as u\n",
    "import matplotlib.pyplot as plt\n",
    "import matplotlib.gridspec as gridspec\n",
    "from astropy.coordinates import SkyCoord\n",
    "from lightkurve.lightcurve import LightCurve as LC\n",
    "\n",
    "plt.rcParams['font.size'] = 18\n",
    "plt.rcParams['figure.figsize'] = (14,8)\n",
    "\n",
    "eleanor.__version__\n",
    "\n",
    "import warnings\n",
    "warnings.filterwarnings('ignore')"
   ]
  },
  {
   "cell_type": "markdown",
   "metadata": {
    "hide_input": false
   },
   "source": [
    "# The Goal"
   ]
  },
  {
   "cell_type": "markdown",
   "metadata": {},
   "source": [
    "![alt text](./figures/ffis.jpg_large \"FFIs\")\n",
    "Image Credit: Jonathan Irwin @Mdwarfgeek"
   ]
  },
  {
   "cell_type": "markdown",
   "metadata": {},
   "source": [
    "We want to create light curves for stars (and other objects!) found within the TESS Full-Frame Images (FFIs). Grabbing pixels and doing a bit of photometry shouldn't be a problem, right? The big issue is that the FFIs for each sector is around 735,000 Mb and it's safe to assume most people don't have access to that kind of computing space."
   ]
  },
  {
   "cell_type": "markdown",
   "metadata": {},
   "source": [
    "# Pass in a TIC ID $\\rightarrow$ Get a Light Curve!"
   ]
  },
  {
   "cell_type": "markdown",
   "metadata": {},
   "source": [
    "![alt text](./figures/eleanor.gif \"eleanor\")\n",
    "\n",
    "The simplest approach to extracting an $\\texttt{eleanor}$ target pixel file (TPF) and light curve is by passing in a $\\textit{TESS}$ Input Catalog (TIC) ID.\n",
    "\n",
    "For this example, we will use TIC 350146296. Calling $\\texttt{eleanor.Source()}$ will crossmatch to a $\\textit{Gaia}$ ID, coordinates, and which sector(s), camera(s), and CCD(s) the star is present in. \n",
    "\n",
    "To start, we know this star was observed in Sector 1, so we will extract the light curve only from this sector."
   ]
  },
  {
   "cell_type": "code",
   "execution_count": null,
   "metadata": {
    "deletable": false,
    "editable": false,
    "run_control": {
     "frozen": true
    }
   },
   "outputs": [],
   "source": [
    "tic = 234503282\n",
    "star = eleanor.Source(tic=tic, sector=1, tc=True)"
   ]
  },
  {
   "cell_type": "markdown",
   "metadata": {
    "deletable": false,
    "editable": false,
    "run_control": {
     "frozen": true
    }
   },
   "source": [
    "You may notice there is this strange input $\\textbf{tc=True}$. Right now, $\\texttt{eleanor}$ is interfacing with the tool TESSCut from MAST. The reason for this is because we're still processing our data products ┐(ツ)┌, but wanted to give the community quick access to the data once it's available."
   ]
  },
  {
   "cell_type": "code",
   "execution_count": null,
   "metadata": {
    "deletable": false,
    "editable": false,
    "run_control": {
     "frozen": true
    }
   },
   "outputs": [],
   "source": [
    "print(\"TIC ID: \", star.tic)\n",
    "print(\"Coordinates: \", star.coords)\n",
    "print(\"Camera, CCD Location: \", star.camera, ',', star.chip)\n",
    "print(\"TESS Mag: \", star.tess_mag)"
   ]
  },
  {
   "cell_type": "code",
   "execution_count": null,
   "metadata": {
    "deletable": false,
    "editable": false,
    "run_control": {
     "frozen": true
    },
    "scrolled": true
   },
   "outputs": [],
   "source": [
    "data = eleanor.TargetData(star, do_psf=True, do_pca=True)"
   ]
  },
  {
   "cell_type": "markdown",
   "metadata": {
    "deletable": false,
    "editable": false,
    "run_control": {
     "frozen": true
    }
   },
   "source": [
    "A \"postcard\" is assigned when calling $\\texttt{eleanor.Source()}$, but what exactly is a postcard? A postcard is a 148 $\\times$ 104 pixel cutout of the FFIs that are time-stacked and background subtracted. For the postcard background, we subtract a constant from the frame using $\\texttt{photutils.MMMBackground()}$. The background at each cadence is passed through with the postcard object. In the future, we will have a 2D modeled background available. (It's being processed for each sector as we speak!)\n",
    "\n",
    "However, when setting $\\textbf{tc = True}$, because we're using TESSCut, the postcard is a 31 $\\times$ 31 pixel cutout, the maximum allowed sized from the software."
   ]
  },
  {
   "cell_type": "code",
   "execution_count": null,
   "metadata": {
    "deletable": false,
    "editable": false,
    "run_control": {
     "frozen": true
    }
   },
   "outputs": [],
   "source": [
    "plt.figure(figsize=(14,8))\n",
    "plt.imshow(data.post_obj.flux[0], origin='lower', vmax=400)\n",
    "plt.title(\"Postcard\")\n",
    "plt.show()"
   ]
  },
  {
   "cell_type": "markdown",
   "metadata": {
    "deletable": false,
    "editable": false,
    "run_control": {
     "frozen": true
    }
   },
   "source": [
    "Now that we have our Source information, we simply call the $\\texttt{eleanor.TargetData()}$ function, which will extracted a TPF, perform aperture photometry with an automatically optimized aperture choice, and complete some simple systematics corrections.\n",
    "\n",
    "For first time users, or users looking at this part of the TESS FOV for the first time, a file will download. Don't be alarmed! We promise it's not a virus. The downloading file is the postcard that we just discussed.\n",
    "\n",
    "If you call $\\texttt{do}$_$\\texttt{psf=True}$ (which enables you to complete a simple point-spred function model), a loading bar will appear to let you know which cadence the model is on and when. If you do not call do_psf, no loading bar will appear."
   ]
  },
  {
   "cell_type": "code",
   "execution_count": null,
   "metadata": {
    "deletable": false,
    "editable": false,
    "run_control": {
     "frozen": true
    }
   },
   "outputs": [],
   "source": [
    "fig, (ax1, ax2) = plt.subplots(ncols=2, nrows=1, figsize=(14,6))\n",
    "ax1.imshow(data.tpf[0], origin='lower', vmax=300)\n",
    "ax1.set_title('TPF')\n",
    "ax2.imshow(data.aperture, origin='lower', cmap='Greys_r')\n",
    "ax2.set_title('Best Aperture');"
   ]
  },
  {
   "cell_type": "markdown",
   "metadata": {
    "deletable": false,
    "editable": false,
    "run_control": {
     "frozen": true
    }
   },
   "source": [
    "At first glance, this aperture may be a little big... But we'll look at that later. First, let's see what the background looks like. There are two steps to the background subtraction: on the postcard level and on the TPF level. We can check how much background was subtracted by calling:"
   ]
  },
  {
   "cell_type": "code",
   "execution_count": null,
   "metadata": {
    "deletable": false,
    "editable": false,
    "run_control": {
     "frozen": true
    }
   },
   "outputs": [],
   "source": [
    "data.bkg_type"
   ]
  },
  {
   "cell_type": "markdown",
   "metadata": {
    "deletable": false,
    "editable": false,
    "run_control": {
     "frozen": true
    }
   },
   "source": [
    "\"PC_LEVEL\" means Postcard Level, so no additional background was subtracted at the TPF level, which is probably for the best because this TPF is quite crowded! In the future, we will also have a $\\textbf{2D_BKG}$ setting as well, where we find a interpolate on the postcard level."
   ]
  },
  {
   "cell_type": "code",
   "execution_count": null,
   "metadata": {
    "deletable": false,
    "editable": false,
    "run_control": {
     "frozen": true
    }
   },
   "outputs": [],
   "source": [
    "plt.plot(data.time, data.flux_bkg, linewidth=2)\n",
    "plt.xlabel('Time (BJD-2457000)')\n",
    "plt.ylabel('Background Flux');"
   ]
  },
  {
   "cell_type": "markdown",
   "metadata": {
    "deletable": false,
    "editable": false,
    "run_control": {
     "frozen": true
    }
   },
   "source": [
    "This is pretty close to what we expect for the background, given the scattered light from Earth. We also create Quality Flags for the user. These will alert the user of spacecraft issues, such as thruster fires, where the data at that time may not be good/useful. We can see how many data points are quality flagged:"
   ]
  },
  {
   "cell_type": "code",
   "execution_count": null,
   "metadata": {
    "deletable": false,
    "editable": false,
    "run_control": {
     "frozen": true
    },
    "scrolled": false
   },
   "outputs": [],
   "source": [
    "plt.plot(data.time, data.quality, 'ko')\n",
    "plt.title(\"# Bad Cadences = {}\".format(\n",
    "            len(np.where(data.quality !=0)[0])));"
   ]
  },
  {
   "cell_type": "markdown",
   "metadata": {
    "deletable": false,
    "editable": false,
    "run_control": {
     "frozen": true
    }
   },
   "source": [
    "Any cadence where Quality Flag != 0 is potentially a bad one. I think it's time to plot our first light curve! We're only plotting the cadences with good quality flags. We provide $\\textbf{four}$ different light curve options:\n",
    "    1. Raw Flux -- Just aperture photometry.\n",
    "    2. Correct Flux -- Background subtraction, removal of long term trends, using the first four CBV modes to correct for similarities across the detector.\n",
    "    3. PCA Flux -- Using the SPOC provided CBVs to remove common systematics in light curves on the same CCD.\n",
    "    4. PSF Flux -- The point-spread function modeled flux."
   ]
  },
  {
   "cell_type": "code",
   "execution_count": null,
   "metadata": {
    "deletable": false,
    "editable": false,
    "run_control": {
     "frozen": true
    }
   },
   "outputs": [],
   "source": [
    "q = data.quality == 0\n",
    "\n",
    "plt.plot(data.time[q], data.raw_flux[q]/np.median(data.raw_flux[q]) + 0.1 , 'k')\n",
    "plt.plot(data.time[q], data.corr_flux[q]/np.median(data.corr_flux[q]) + 0.06, 'r')\n",
    "plt.plot(data.time[q], data.pca_flux[q]/np.median(data.pca_flux[q]) + 0.035, 'y')\n",
    "plt.plot(data.time[q], data.psf_flux[q]/np.median(data.psf_flux[q]) + 0.01, 'b')\n",
    "\n",
    "plt.xlabel('Time (BJD-2457000)')\n",
    "plt.ylabel('Normalized Flux + Constant');"
   ]
  },
  {
   "cell_type": "markdown",
   "metadata": {
    "deletable": false,
    "editable": false,
    "run_control": {
     "frozen": true
    }
   },
   "source": [
    "Yay light curves! Yay a signal! What could it be?? First, we should try creating a light curve with a smaller aperture, to make sure there isn't a background source causing this signal. TESS's pixels are large, so this is a good test to do. LUCKILY! Every $\\texttt{eleanor.TargetData()}$ object comes equipt with all of the apertures we tested and all of the raw and corrected fluxes for these additional apertures."
   ]
  },
  {
   "cell_type": "code",
   "execution_count": null,
   "metadata": {
    "deletable": false,
    "editable": false,
    "run_control": {
     "frozen": true
    }
   },
   "outputs": [],
   "source": [
    "fig, (ax1, ax2) = plt.subplots(ncols=2, nrows=1, figsize=(14,4))\n",
    "gs = gridspec.GridSpec(1, 2, width_ratios=[1, 3], height_ratios=[2]) \n",
    "ax0 = plt.subplot(gs[0])\n",
    "ax0.imshow(data.tpf[0], origin='lower', vmax=300)\n",
    "ax0.imshow(data.all_apertures[13], origin='lower', cmap='Greys_r', alpha=0.5)\n",
    "ax0.set_xticks([])\n",
    "ax0.set_yticks([])\n",
    "ax1 = plt.subplot(gs[1])\n",
    "ax1.plot(data.time[q], data.all_corr_lc[13][q])\n",
    "plt.show()"
   ]
  },
  {
   "cell_type": "markdown",
   "metadata": {
    "deletable": false,
    "editable": false,
    "run_control": {
     "frozen": true
    }
   },
   "source": [
    "If the 21 apertures $\\texttt{eleanor.TargetData()}$ provides you with isn't enough, or you want to try a different shape or weighting scheme, you can create your own 2D array of the same shape as the TPF and pass that in as an aperture."
   ]
  },
  {
   "cell_type": "code",
   "execution_count": null,
   "metadata": {
    "deletable": false,
    "editable": false,
    "run_control": {
     "frozen": true
    },
    "scrolled": true
   },
   "outputs": [],
   "source": [
    "mask = np.zeros(np.shape(data.tpf[0]))\n",
    "mask[5,7] = 1\n",
    "mask[6:8,6:9] = 1\n",
    "mask[8,7] = 1\n",
    "\n",
    "data.get_lightcurve(aperture=mask)\n",
    "\n",
    "fig, (ax1, ax2) = plt.subplots(ncols=2, nrows=1, figsize=(14,4))\n",
    "gs = gridspec.GridSpec(1, 2, width_ratios=[1, 3], height_ratios=[2]) \n",
    "ax0 = plt.subplot(gs[0])\n",
    "ax0.set_xticks([])\n",
    "ax0.set_yticks([])\n",
    "ax0.imshow(data.tpf[0], origin='lower', vmax=300)\n",
    "ax0.imshow(mask, origin='lower', cmap='Greys_r', alpha=0.5)\n",
    "ax1 = plt.subplot(gs[1])\n",
    "ax1.plot(data.time[q], data.corr_flux[q])\n",
    "plt.show()"
   ]
  },
  {
   "cell_type": "code",
   "execution_count": null,
   "metadata": {
    "deletable": false,
    "editable": false,
    "run_control": {
     "frozen": true
    }
   },
   "outputs": [],
   "source": [
    "data.pca(flux=data.corr_flux, modes=7)\n",
    "plt.plot(data.time[q], data.pca_flux[q]+160, 'k', label='7 CBVs')\n",
    "data.pca(flux=data.corr_flux, modes=1)\n",
    "plt.plot(data.time[q], data.pca_flux[q], 'r', label='1 CBV')\n",
    "plt.legend(ncol=2);"
   ]
  },
  {
   "cell_type": "markdown",
   "metadata": {
    "deletable": false,
    "editable": false,
    "run_control": {
     "frozen": true
    }
   },
   "source": [
    "To save your TPF and light curves, it's as easy as"
   ]
  },
  {
   "cell_type": "code",
   "execution_count": null,
   "metadata": {
    "deletable": false,
    "editable": false,
    "run_control": {
     "frozen": true
    }
   },
   "outputs": [],
   "source": [
    "data.save()"
   ]
  },
  {
   "cell_type": "markdown",
   "metadata": {},
   "source": [
    "# Pass in Coordinates $\\rightarrow$ Get a Light Curve for Multiple Sectors"
   ]
  },
  {
   "cell_type": "markdown",
   "metadata": {},
   "source": [
    "Great! Now we know how to create a light curve using $\\texttt{eleanor.Source()}$ and $\\texttt{eleanor.TargetData()}$ with a TIC ID. Now, let's do it all over again, but this time we'll highlight two additional features:\n",
    "\n",
    "    1. Pass in coordinates to get a light curve.\n",
    "    2. Create a light curve for a source observed in multiple sectors.\n",
    "\n",
    "First, we have to assign our coordinates with a unit. This allows users to pass in coordinates in degrees or hourangle. Then, instead of calling $\\texttt{eleanor.Source()}$ as we did last time, we'll call $\\texttt{eleanor.multi_sectors()}$, which additionally requires a list of sectors you want. Or, if you simply want all of the available sectors, you set the input $\\textbf{sectors = \"all\"}$. If we call $\\texttt{eleanor.Source()}$, it will return the light curve for the most recent sector the target was observed in."
   ]
  },
  {
   "cell_type": "code",
   "execution_count": 2,
   "metadata": {},
   "outputs": [
    {
     "name": "stdout",
     "output_type": "stream",
     "text": [
      "Found star in Sector(s) 1 2 3 4 5 6 7 8 9 10 11 12\n",
      "Downloading URL https://mast.stsci.edu/tesscut/api/v0.1/astrocut?ra=95.91767&dec=-75.075775&y=31&x=31&units=px&sector=1 to /Users/AdinaFeinstein/.eleanor/tesscut/tesscut_20190725091918.zip ... [Done]\n",
      "Inflating...\n",
      "Downloading URL https://mast.stsci.edu/tesscut/api/v0.1/astrocut?ra=95.91767&dec=-75.075775&y=31&x=31&units=px&sector=2 to /Users/AdinaFeinstein/.eleanor/tesscut/tesscut_20190725091927.zip ... [Done]\n",
      "Inflating...\n",
      "Downloading URL https://mast.stsci.edu/tesscut/api/v0.1/astrocut?ra=95.91767&dec=-75.075775&y=31&x=31&units=px&sector=3 to /Users/AdinaFeinstein/.eleanor/tesscut/tesscut_20190725091935.zip ... [Done]\n",
      "Inflating...\n",
      "Downloading URL https://mast.stsci.edu/tesscut/api/v0.1/astrocut?ra=95.91767&dec=-75.075775&y=31&x=31&units=px&sector=4 to /Users/AdinaFeinstein/.eleanor/tesscut/tesscut_20190725091943.zip ... [Done]\n",
      "Inflating...\n",
      "Downloading URL https://mast.stsci.edu/tesscut/api/v0.1/astrocut?ra=95.91767&dec=-75.075775&y=31&x=31&units=px&sector=5 to /Users/AdinaFeinstein/.eleanor/tesscut/tesscut_20190725091950.zip ... [Done]\n",
      "Inflating...\n",
      "Downloading URL https://mast.stsci.edu/tesscut/api/v0.1/astrocut?ra=95.91767&dec=-75.075775&y=31&x=31&units=px&sector=6 to /Users/AdinaFeinstein/.eleanor/tesscut/tesscut_20190725091958.zip ... [Done]\n",
      "Inflating...\n",
      "Downloading URL https://mast.stsci.edu/tesscut/api/v0.1/astrocut?ra=95.91767&dec=-75.075775&y=31&x=31&units=px&sector=7 to /Users/AdinaFeinstein/.eleanor/tesscut/tesscut_20190725092007.zip ... [Done]\n",
      "Inflating...\n",
      "Downloading URL https://mast.stsci.edu/tesscut/api/v0.1/astrocut?ra=95.91767&dec=-75.075775&y=31&x=31&units=px&sector=8 to /Users/AdinaFeinstein/.eleanor/tesscut/tesscut_20190725092015.zip ... [Done]\n",
      "Inflating...\n",
      "Downloading URL https://mast.stsci.edu/tesscut/api/v0.1/astrocut?ra=95.91767&dec=-75.075775&y=31&x=31&units=px&sector=9 to /Users/AdinaFeinstein/.eleanor/tesscut/tesscut_20190725092022.zip ... [Done]\n",
      "Inflating...\n",
      "Downloading URL https://mast.stsci.edu/tesscut/api/v0.1/astrocut?ra=95.91767&dec=-75.075775&y=31&x=31&units=px&sector=10 to /Users/AdinaFeinstein/.eleanor/tesscut/tesscut_20190725092030.zip ... [Done]\n",
      "Inflating...\n",
      "Downloading URL https://mast.stsci.edu/tesscut/api/v0.1/astrocut?ra=95.91767&dec=-75.075775&y=31&x=31&units=px&sector=11 to /Users/AdinaFeinstein/.eleanor/tesscut/tesscut_20190725092039.zip ... [Done]\n",
      "Inflating...\n",
      "Downloading URL https://mast.stsci.edu/tesscut/api/v0.1/astrocut?ra=95.91767&dec=-75.075775&y=31&x=31&units=px&sector=12 to /Users/AdinaFeinstein/.eleanor/tesscut/tesscut_20190725092047.zip ... [Done]\n",
      "Inflating...\n"
     ]
    }
   ],
   "source": [
    "ra  = 95.91767\n",
    "dec = -75.075775\n",
    "\n",
    "stars = eleanor.multi_sectors(coords=SkyCoord(ra,dec, unit=(u.deg)), \n",
    "                              sectors=\"all\", tc=True)"
   ]
  },
  {
   "cell_type": "markdown",
   "metadata": {},
   "source": [
    "$\\texttt{eleanor.multi_sectors()}$ returns a list of $\\texttt{eleanor.Source()}$ objects! We can then pass these into $\\texttt{eleanor.TargetData()}$ individually to create light curves for each sector."
   ]
  },
  {
   "cell_type": "code",
   "execution_count": 3,
   "metadata": {},
   "outputs": [],
   "source": [
    "time = np.array([])\n",
    "flux = np.array([])\n",
    "\n",
    "for star in stars:\n",
    "    datum = eleanor.TargetData(star)\n",
    "    \n",
    "    q = datum.quality == 0\n",
    "    \n",
    "    time = np.append(time, datum.time[q])\n",
    "    flux = np.append(flux, datum.corr_flux[q]/np.nanmedian(datum.corr_flux[q]))"
   ]
  },
  {
   "cell_type": "code",
   "execution_count": 4,
   "metadata": {},
   "outputs": [
    {
     "data": {
      "image/png": "[encoded data removed]",
      "text/plain": [
       "<Figure size 360x216 with 1 Axes>"
      ]
     },
     "metadata": {},
     "output_type": "display_data"
    }
   ],
   "source": [
    "plt.rcParams['font.size'] = 10\n",
    "plt.figure(figsize=(5,3))\n",
    "plt.plot(time, flux, 'k')\n",
    "plt.xlabel('Time (BJD-2457000)')\n",
    "plt.ylabel('Normalized Flux')\n",
    "plt.show()"
   ]
  },
  {
   "cell_type": "markdown",
   "metadata": {},
   "source": [
    "# Let's find some flares"
   ]
  },
  {
   "cell_type": "code",
   "execution_count": 5,
   "metadata": {
    "hide_input": false,
    "scrolled": true
   },
   "outputs": [
    {
     "name": "stdout",
     "output_type": "stream",
     "text": [
      "No TIC was given. Cannot query magnitudes to estimate age or flare energies.\n"
     ]
    }
   ],
   "source": [
    "ys = stella.YoungStars(time=time, flux=flux)"
   ]
  },
  {
   "cell_type": "code",
   "execution_count": 6,
   "metadata": {},
   "outputs": [
    {
     "data": {
      "image/png": "[encoded data removed]",
      "text/plain": [
       "<Figure size 432x288 with 1 Axes>"
      ]
     },
     "metadata": {},
     "output_type": "display_data"
    }
   ],
   "source": [
    "%matplotlib inline\n",
    "plt.plot(ys.time, ys.norm_flux);"
   ]
  },
  {
   "cell_type": "code",
   "execution_count": 7,
   "metadata": {},
   "outputs": [
    {
     "name": "stdout",
     "output_type": "stream",
     "text": [
      "No flares found in  1347.9905706687703  -  1348.4071958392224\n",
      "No flares found in  1568.4486336829448  -  1569.469501314086\n",
      "No flares found in  1581.761329068456  -  1583.073836266599\n"
     ]
    }
   ],
   "source": [
    "ys.savitsky_golay()\n",
    "ys.identify_flares()"
   ]
  },
  {
   "cell_type": "code",
   "execution_count": 8,
   "metadata": {},
   "outputs": [
    {
     "data": {
      "text/html": [
       "<div>\n",
       "<style scoped>\n",
       "    .dataframe tbody tr th:only-of-type {\n",
       "        vertical-align: middle;\n",
       "    }\n",
       "\n",
       "    .dataframe tbody tr th {\n",
       "        vertical-align: top;\n",
       "    }\n",
       "\n",
       "    .dataframe thead th {\n",
       "        text-align: right;\n",
       "    }\n",
       "</style>\n",
       "<table border=\"1\" class=\"dataframe\">\n",
       "  <thead>\n",
       "    <tr style=\"text-align: right;\">\n",
       "      <th></th>\n",
       "      <th>istart</th>\n",
       "      <th>istop</th>\n",
       "      <th>tstart</th>\n",
       "      <th>tstop</th>\n",
       "      <th>ed_rec_s</th>\n",
       "      <th>ed_rec_err</th>\n",
       "      <th>ampl_rec</th>\n",
       "      <th>energy_ergs</th>\n",
       "    </tr>\n",
       "  </thead>\n",
       "  <tbody>\n",
       "    <tr>\n",
       "      <th>0</th>\n",
       "      <td>34</td>\n",
       "      <td>35</td>\n",
       "      <td>1326.053298</td>\n",
       "      <td>1326.074172</td>\n",
       "      <td>4.856244</td>\n",
       "      <td>inf</td>\n",
       "      <td>1.007793</td>\n",
       "      <td>NaN</td>\n",
       "    </tr>\n",
       "    <tr>\n",
       "      <th>1</th>\n",
       "      <td>81</td>\n",
       "      <td>82</td>\n",
       "      <td>1327.178295</td>\n",
       "      <td>1327.219982</td>\n",
       "      <td>10.237407</td>\n",
       "      <td>inf</td>\n",
       "      <td>1.005322</td>\n",
       "      <td>NaN</td>\n",
       "    </tr>\n",
       "    <tr>\n",
       "      <th>2</th>\n",
       "      <td>228</td>\n",
       "      <td>229</td>\n",
       "      <td>1331.261595</td>\n",
       "      <td>1331.282408</td>\n",
       "      <td>4.456886</td>\n",
       "      <td>inf</td>\n",
       "      <td>1.003562</td>\n",
       "      <td>NaN</td>\n",
       "    </tr>\n",
       "    <tr>\n",
       "      <th>3</th>\n",
       "      <td>247</td>\n",
       "      <td>248</td>\n",
       "      <td>1331.865780</td>\n",
       "      <td>1331.886593</td>\n",
       "      <td>1.958908</td>\n",
       "      <td>inf</td>\n",
       "      <td>1.003061</td>\n",
       "      <td>NaN</td>\n",
       "    </tr>\n",
       "    <tr>\n",
       "      <th>4</th>\n",
       "      <td>290</td>\n",
       "      <td>291</td>\n",
       "      <td>1333.261589</td>\n",
       "      <td>1333.282402</td>\n",
       "      <td>4.939583</td>\n",
       "      <td>inf</td>\n",
       "      <td>1.005639</td>\n",
       "      <td>NaN</td>\n",
       "    </tr>\n",
       "    <tr>\n",
       "      <th>5</th>\n",
       "      <td>424</td>\n",
       "      <td>425</td>\n",
       "      <td>1336.449022</td>\n",
       "      <td>1336.469896</td>\n",
       "      <td>2.549359</td>\n",
       "      <td>inf</td>\n",
       "      <td>1.003650</td>\n",
       "      <td>NaN</td>\n",
       "    </tr>\n",
       "    <tr>\n",
       "      <th>6</th>\n",
       "      <td>458</td>\n",
       "      <td>459</td>\n",
       "      <td>1337.219896</td>\n",
       "      <td>1337.240709</td>\n",
       "      <td>4.076404</td>\n",
       "      <td>inf</td>\n",
       "      <td>1.003667</td>\n",
       "      <td>NaN</td>\n",
       "    </tr>\n",
       "    <tr>\n",
       "      <th>7</th>\n",
       "      <td>527</td>\n",
       "      <td>528</td>\n",
       "      <td>1340.011525</td>\n",
       "      <td>1340.032338</td>\n",
       "      <td>6.969142</td>\n",
       "      <td>inf</td>\n",
       "      <td>1.006648</td>\n",
       "      <td>NaN</td>\n",
       "    </tr>\n",
       "    <tr>\n",
       "      <th>8</th>\n",
       "      <td>533</td>\n",
       "      <td>534</td>\n",
       "      <td>1340.136525</td>\n",
       "      <td>1340.157338</td>\n",
       "      <td>4.123705</td>\n",
       "      <td>inf</td>\n",
       "      <td>1.003642</td>\n",
       "      <td>NaN</td>\n",
       "    </tr>\n",
       "    <tr>\n",
       "      <th>9</th>\n",
       "      <td>619</td>\n",
       "      <td>620</td>\n",
       "      <td>1342.136459</td>\n",
       "      <td>1342.157272</td>\n",
       "      <td>4.023968</td>\n",
       "      <td>inf</td>\n",
       "      <td>1.002778</td>\n",
       "      <td>NaN</td>\n",
       "    </tr>\n",
       "    <tr>\n",
       "      <th>10</th>\n",
       "      <td>639</td>\n",
       "      <td>643</td>\n",
       "      <td>1342.615645</td>\n",
       "      <td>1342.698958</td>\n",
       "      <td>8.394086</td>\n",
       "      <td>inf</td>\n",
       "      <td>1.004887</td>\n",
       "      <td>NaN</td>\n",
       "    </tr>\n",
       "    <tr>\n",
       "      <th>11</th>\n",
       "      <td>799</td>\n",
       "      <td>800</td>\n",
       "      <td>1346.303074</td>\n",
       "      <td>1346.323887</td>\n",
       "      <td>2.705174</td>\n",
       "      <td>inf</td>\n",
       "      <td>1.003489</td>\n",
       "      <td>NaN</td>\n",
       "    </tr>\n",
       "    <tr>\n",
       "      <th>12</th>\n",
       "      <td>960</td>\n",
       "      <td>961</td>\n",
       "      <td>1352.094633</td>\n",
       "      <td>1352.115507</td>\n",
       "      <td>3.843733</td>\n",
       "      <td>inf</td>\n",
       "      <td>1.003392</td>\n",
       "      <td>NaN</td>\n",
       "    </tr>\n",
       "    <tr>\n",
       "      <th>13</th>\n",
       "      <td>967</td>\n",
       "      <td>968</td>\n",
       "      <td>1352.282133</td>\n",
       "      <td>1352.303007</td>\n",
       "      <td>4.312832</td>\n",
       "      <td>inf</td>\n",
       "      <td>1.003332</td>\n",
       "      <td>NaN</td>\n",
       "    </tr>\n",
       "    <tr>\n",
       "      <th>14</th>\n",
       "      <td>1066</td>\n",
       "      <td>1067</td>\n",
       "      <td>1355.365439</td>\n",
       "      <td>1355.407126</td>\n",
       "      <td>9.153066</td>\n",
       "      <td>inf</td>\n",
       "      <td>1.004210</td>\n",
       "      <td>NaN</td>\n",
       "    </tr>\n",
       "    <tr>\n",
       "      <th>15</th>\n",
       "      <td>1116</td>\n",
       "      <td>1117</td>\n",
       "      <td>1356.615431</td>\n",
       "      <td>1356.657057</td>\n",
       "      <td>6.244007</td>\n",
       "      <td>inf</td>\n",
       "      <td>1.004485</td>\n",
       "      <td>NaN</td>\n",
       "    </tr>\n",
       "    <tr>\n",
       "      <th>16</th>\n",
       "      <td>1154</td>\n",
       "      <td>1155</td>\n",
       "      <td>1357.469551</td>\n",
       "      <td>1357.490425</td>\n",
       "      <td>4.041697</td>\n",
       "      <td>inf</td>\n",
       "      <td>1.005905</td>\n",
       "      <td>NaN</td>\n",
       "    </tr>\n",
       "    <tr>\n",
       "      <th>17</th>\n",
       "      <td>1569</td>\n",
       "      <td>1572</td>\n",
       "      <td>1368.740254</td>\n",
       "      <td>1368.802753</td>\n",
       "      <td>2.138620</td>\n",
       "      <td>inf</td>\n",
       "      <td>1.004256</td>\n",
       "      <td>NaN</td>\n",
       "    </tr>\n",
       "    <tr>\n",
       "      <th>18</th>\n",
       "      <td>1589</td>\n",
       "      <td>1590</td>\n",
       "      <td>1369.156878</td>\n",
       "      <td>1369.177752</td>\n",
       "      <td>2.894078</td>\n",
       "      <td>inf</td>\n",
       "      <td>1.003460</td>\n",
       "      <td>NaN</td>\n",
       "    </tr>\n",
       "    <tr>\n",
       "      <th>19</th>\n",
       "      <td>1769</td>\n",
       "      <td>1770</td>\n",
       "      <td>1373.344359</td>\n",
       "      <td>1373.406859</td>\n",
       "      <td>10.268786</td>\n",
       "      <td>inf</td>\n",
       "      <td>1.004075</td>\n",
       "      <td>NaN</td>\n",
       "    </tr>\n",
       "    <tr>\n",
       "      <th>20</th>\n",
       "      <td>1811</td>\n",
       "      <td>1812</td>\n",
       "      <td>1374.385981</td>\n",
       "      <td>1374.406855</td>\n",
       "      <td>2.899752</td>\n",
       "      <td>inf</td>\n",
       "      <td>1.002744</td>\n",
       "      <td>NaN</td>\n",
       "    </tr>\n",
       "    <tr>\n",
       "      <th>21</th>\n",
       "      <td>1824</td>\n",
       "      <td>1825</td>\n",
       "      <td>1374.656854</td>\n",
       "      <td>1374.677667</td>\n",
       "      <td>1.673200</td>\n",
       "      <td>inf</td>\n",
       "      <td>1.002642</td>\n",
       "      <td>NaN</td>\n",
       "    </tr>\n",
       "    <tr>\n",
       "      <th>22</th>\n",
       "      <td>2022</td>\n",
       "      <td>2024</td>\n",
       "      <td>1379.656719</td>\n",
       "      <td>1379.698406</td>\n",
       "      <td>5.196612</td>\n",
       "      <td>inf</td>\n",
       "      <td>1.009810</td>\n",
       "      <td>NaN</td>\n",
       "    </tr>\n",
       "    <tr>\n",
       "      <th>23</th>\n",
       "      <td>2090</td>\n",
       "      <td>2095</td>\n",
       "      <td>1386.073284</td>\n",
       "      <td>1386.177470</td>\n",
       "      <td>8.449248</td>\n",
       "      <td>inf</td>\n",
       "      <td>1.004633</td>\n",
       "      <td>NaN</td>\n",
       "    </tr>\n",
       "    <tr>\n",
       "      <th>24</th>\n",
       "      <td>2150</td>\n",
       "      <td>2152</td>\n",
       "      <td>1387.469152</td>\n",
       "      <td>1387.510778</td>\n",
       "      <td>1.997623</td>\n",
       "      <td>inf</td>\n",
       "      <td>1.005408</td>\n",
       "      <td>NaN</td>\n",
       "    </tr>\n",
       "    <tr>\n",
       "      <th>25</th>\n",
       "      <td>2481</td>\n",
       "      <td>2489</td>\n",
       "      <td>1397.135633</td>\n",
       "      <td>1397.302320</td>\n",
       "      <td>73.756769</td>\n",
       "      <td>inf</td>\n",
       "      <td>1.022326</td>\n",
       "      <td>NaN</td>\n",
       "    </tr>\n",
       "    <tr>\n",
       "      <th>26</th>\n",
       "      <td>2631</td>\n",
       "      <td>2632</td>\n",
       "      <td>1400.760616</td>\n",
       "      <td>1400.781429</td>\n",
       "      <td>1.726603</td>\n",
       "      <td>inf</td>\n",
       "      <td>1.002281</td>\n",
       "      <td>NaN</td>\n",
       "    </tr>\n",
       "    <tr>\n",
       "      <th>27</th>\n",
       "      <td>2652</td>\n",
       "      <td>2653</td>\n",
       "      <td>1401.198114</td>\n",
       "      <td>1401.218927</td>\n",
       "      <td>3.949769</td>\n",
       "      <td>inf</td>\n",
       "      <td>1.003935</td>\n",
       "      <td>NaN</td>\n",
       "    </tr>\n",
       "    <tr>\n",
       "      <th>28</th>\n",
       "      <td>2790</td>\n",
       "      <td>2791</td>\n",
       "      <td>1404.531410</td>\n",
       "      <td>1404.552223</td>\n",
       "      <td>1.244581</td>\n",
       "      <td>inf</td>\n",
       "      <td>1.002214</td>\n",
       "      <td>NaN</td>\n",
       "    </tr>\n",
       "    <tr>\n",
       "      <th>29</th>\n",
       "      <td>3055</td>\n",
       "      <td>3056</td>\n",
       "      <td>1416.656280</td>\n",
       "      <td>1416.677093</td>\n",
       "      <td>4.672917</td>\n",
       "      <td>inf</td>\n",
       "      <td>1.007131</td>\n",
       "      <td>NaN</td>\n",
       "    </tr>\n",
       "    <tr>\n",
       "      <th>...</th>\n",
       "      <td>...</td>\n",
       "      <td>...</td>\n",
       "      <td>...</td>\n",
       "      <td>...</td>\n",
       "      <td>...</td>\n",
       "      <td>...</td>\n",
       "      <td>...</td>\n",
       "      <td>...</td>\n",
       "    </tr>\n",
       "    <tr>\n",
       "      <th>130</th>\n",
       "      <td>10082</td>\n",
       "      <td>10083</td>\n",
       "      <td>1604.178276</td>\n",
       "      <td>1604.199089</td>\n",
       "      <td>3.153130</td>\n",
       "      <td>inf</td>\n",
       "      <td>1.003426</td>\n",
       "      <td>NaN</td>\n",
       "    </tr>\n",
       "    <tr>\n",
       "      <th>131</th>\n",
       "      <td>10102</td>\n",
       "      <td>10103</td>\n",
       "      <td>1604.594901</td>\n",
       "      <td>1604.615775</td>\n",
       "      <td>4.357941</td>\n",
       "      <td>inf</td>\n",
       "      <td>1.007597</td>\n",
       "      <td>NaN</td>\n",
       "    </tr>\n",
       "    <tr>\n",
       "      <th>132</th>\n",
       "      <td>10194</td>\n",
       "      <td>10195</td>\n",
       "      <td>1606.532396</td>\n",
       "      <td>1606.553270</td>\n",
       "      <td>1.991273</td>\n",
       "      <td>inf</td>\n",
       "      <td>1.003830</td>\n",
       "      <td>NaN</td>\n",
       "    </tr>\n",
       "    <tr>\n",
       "      <th>133</th>\n",
       "      <td>10542</td>\n",
       "      <td>10543</td>\n",
       "      <td>1615.365813</td>\n",
       "      <td>1615.386626</td>\n",
       "      <td>3.422153</td>\n",
       "      <td>inf</td>\n",
       "      <td>1.004208</td>\n",
       "      <td>NaN</td>\n",
       "    </tr>\n",
       "    <tr>\n",
       "      <th>134</th>\n",
       "      <td>10600</td>\n",
       "      <td>10603</td>\n",
       "      <td>1616.574183</td>\n",
       "      <td>1616.636683</td>\n",
       "      <td>13.920489</td>\n",
       "      <td>inf</td>\n",
       "      <td>1.015023</td>\n",
       "      <td>NaN</td>\n",
       "    </tr>\n",
       "    <tr>\n",
       "      <th>135</th>\n",
       "      <td>10649</td>\n",
       "      <td>10650</td>\n",
       "      <td>1617.615867</td>\n",
       "      <td>1617.636680</td>\n",
       "      <td>0.373704</td>\n",
       "      <td>inf</td>\n",
       "      <td>1.003764</td>\n",
       "      <td>NaN</td>\n",
       "    </tr>\n",
       "    <tr>\n",
       "      <th>136</th>\n",
       "      <td>10668</td>\n",
       "      <td>10669</td>\n",
       "      <td>1618.011679</td>\n",
       "      <td>1618.032491</td>\n",
       "      <td>2.963111</td>\n",
       "      <td>inf</td>\n",
       "      <td>1.004783</td>\n",
       "      <td>NaN</td>\n",
       "    </tr>\n",
       "    <tr>\n",
       "      <th>137</th>\n",
       "      <td>10715</td>\n",
       "      <td>10716</td>\n",
       "      <td>1618.990862</td>\n",
       "      <td>1619.011675</td>\n",
       "      <td>2.487612</td>\n",
       "      <td>inf</td>\n",
       "      <td>1.004094</td>\n",
       "      <td>NaN</td>\n",
       "    </tr>\n",
       "    <tr>\n",
       "      <th>138</th>\n",
       "      <td>10739</td>\n",
       "      <td>10740</td>\n",
       "      <td>1619.490861</td>\n",
       "      <td>1619.511674</td>\n",
       "      <td>3.814637</td>\n",
       "      <td>inf</td>\n",
       "      <td>1.003665</td>\n",
       "      <td>NaN</td>\n",
       "    </tr>\n",
       "    <tr>\n",
       "      <th>139</th>\n",
       "      <td>10839</td>\n",
       "      <td>10840</td>\n",
       "      <td>1621.595042</td>\n",
       "      <td>1621.615855</td>\n",
       "      <td>2.509973</td>\n",
       "      <td>inf</td>\n",
       "      <td>1.003708</td>\n",
       "      <td>NaN</td>\n",
       "    </tr>\n",
       "    <tr>\n",
       "      <th>140</th>\n",
       "      <td>10867</td>\n",
       "      <td>10868</td>\n",
       "      <td>1622.178354</td>\n",
       "      <td>1622.199228</td>\n",
       "      <td>4.082444</td>\n",
       "      <td>inf</td>\n",
       "      <td>1.003540</td>\n",
       "      <td>NaN</td>\n",
       "    </tr>\n",
       "    <tr>\n",
       "      <th>141</th>\n",
       "      <td>11012</td>\n",
       "      <td>11013</td>\n",
       "      <td>1626.449213</td>\n",
       "      <td>1626.470026</td>\n",
       "      <td>12.055266</td>\n",
       "      <td>inf</td>\n",
       "      <td>1.015771</td>\n",
       "      <td>NaN</td>\n",
       "    </tr>\n",
       "    <tr>\n",
       "      <th>142</th>\n",
       "      <td>11173</td>\n",
       "      <td>11175</td>\n",
       "      <td>1630.532611</td>\n",
       "      <td>1630.574237</td>\n",
       "      <td>11.496239</td>\n",
       "      <td>inf</td>\n",
       "      <td>1.010040</td>\n",
       "      <td>NaN</td>\n",
       "    </tr>\n",
       "    <tr>\n",
       "      <th>143</th>\n",
       "      <td>11186</td>\n",
       "      <td>11187</td>\n",
       "      <td>1630.803422</td>\n",
       "      <td>1630.824235</td>\n",
       "      <td>3.624069</td>\n",
       "      <td>inf</td>\n",
       "      <td>1.002698</td>\n",
       "      <td>NaN</td>\n",
       "    </tr>\n",
       "    <tr>\n",
       "      <th>144</th>\n",
       "      <td>11248</td>\n",
       "      <td>11249</td>\n",
       "      <td>1632.532593</td>\n",
       "      <td>1632.553406</td>\n",
       "      <td>3.735159</td>\n",
       "      <td>inf</td>\n",
       "      <td>1.003481</td>\n",
       "      <td>NaN</td>\n",
       "    </tr>\n",
       "    <tr>\n",
       "      <th>145</th>\n",
       "      <td>11331</td>\n",
       "      <td>11332</td>\n",
       "      <td>1634.282578</td>\n",
       "      <td>1634.303452</td>\n",
       "      <td>3.721403</td>\n",
       "      <td>inf</td>\n",
       "      <td>1.004025</td>\n",
       "      <td>NaN</td>\n",
       "    </tr>\n",
       "    <tr>\n",
       "      <th>146</th>\n",
       "      <td>11343</td>\n",
       "      <td>11344</td>\n",
       "      <td>1634.574262</td>\n",
       "      <td>1634.595075</td>\n",
       "      <td>5.706805</td>\n",
       "      <td>inf</td>\n",
       "      <td>1.006988</td>\n",
       "      <td>NaN</td>\n",
       "    </tr>\n",
       "    <tr>\n",
       "      <th>147</th>\n",
       "      <td>11431</td>\n",
       "      <td>11433</td>\n",
       "      <td>1636.615932</td>\n",
       "      <td>1636.657558</td>\n",
       "      <td>3.367231</td>\n",
       "      <td>inf</td>\n",
       "      <td>1.005731</td>\n",
       "      <td>NaN</td>\n",
       "    </tr>\n",
       "    <tr>\n",
       "      <th>148</th>\n",
       "      <td>11463</td>\n",
       "      <td>11464</td>\n",
       "      <td>1637.303427</td>\n",
       "      <td>1637.324301</td>\n",
       "      <td>2.971631</td>\n",
       "      <td>inf</td>\n",
       "      <td>1.002758</td>\n",
       "      <td>NaN</td>\n",
       "    </tr>\n",
       "    <tr>\n",
       "      <th>149</th>\n",
       "      <td>11731</td>\n",
       "      <td>11732</td>\n",
       "      <td>1644.865919</td>\n",
       "      <td>1644.886732</td>\n",
       "      <td>2.761205</td>\n",
       "      <td>inf</td>\n",
       "      <td>1.002765</td>\n",
       "      <td>NaN</td>\n",
       "    </tr>\n",
       "    <tr>\n",
       "      <th>150</th>\n",
       "      <td>11745</td>\n",
       "      <td>11746</td>\n",
       "      <td>1645.157603</td>\n",
       "      <td>1645.178416</td>\n",
       "      <td>3.204573</td>\n",
       "      <td>inf</td>\n",
       "      <td>1.002651</td>\n",
       "      <td>NaN</td>\n",
       "    </tr>\n",
       "    <tr>\n",
       "      <th>151</th>\n",
       "      <td>11753</td>\n",
       "      <td>11754</td>\n",
       "      <td>1645.324289</td>\n",
       "      <td>1645.345102</td>\n",
       "      <td>3.361901</td>\n",
       "      <td>inf</td>\n",
       "      <td>1.003719</td>\n",
       "      <td>NaN</td>\n",
       "    </tr>\n",
       "    <tr>\n",
       "      <th>152</th>\n",
       "      <td>11772</td>\n",
       "      <td>11773</td>\n",
       "      <td>1645.720098</td>\n",
       "      <td>1645.740972</td>\n",
       "      <td>1.100643</td>\n",
       "      <td>inf</td>\n",
       "      <td>1.003516</td>\n",
       "      <td>NaN</td>\n",
       "    </tr>\n",
       "    <tr>\n",
       "      <th>153</th>\n",
       "      <td>11857</td>\n",
       "      <td>11859</td>\n",
       "      <td>1647.532580</td>\n",
       "      <td>1647.574266</td>\n",
       "      <td>0.645295</td>\n",
       "      <td>inf</td>\n",
       "      <td>1.003599</td>\n",
       "      <td>NaN</td>\n",
       "    </tr>\n",
       "    <tr>\n",
       "      <th>154</th>\n",
       "      <td>11881</td>\n",
       "      <td>11882</td>\n",
       "      <td>1648.032575</td>\n",
       "      <td>1648.053449</td>\n",
       "      <td>3.639480</td>\n",
       "      <td>inf</td>\n",
       "      <td>1.002716</td>\n",
       "      <td>NaN</td>\n",
       "    </tr>\n",
       "    <tr>\n",
       "      <th>155</th>\n",
       "      <td>11907</td>\n",
       "      <td>11908</td>\n",
       "      <td>1648.574257</td>\n",
       "      <td>1648.595069</td>\n",
       "      <td>3.309857</td>\n",
       "      <td>inf</td>\n",
       "      <td>1.002824</td>\n",
       "      <td>NaN</td>\n",
       "    </tr>\n",
       "    <tr>\n",
       "      <th>156</th>\n",
       "      <td>11913</td>\n",
       "      <td>11915</td>\n",
       "      <td>1648.699255</td>\n",
       "      <td>1648.740942</td>\n",
       "      <td>3.216775</td>\n",
       "      <td>inf</td>\n",
       "      <td>1.006455</td>\n",
       "      <td>NaN</td>\n",
       "    </tr>\n",
       "    <tr>\n",
       "      <th>157</th>\n",
       "      <td>11929</td>\n",
       "      <td>11930</td>\n",
       "      <td>1649.032565</td>\n",
       "      <td>1649.053439</td>\n",
       "      <td>1.329249</td>\n",
       "      <td>inf</td>\n",
       "      <td>1.002876</td>\n",
       "      <td>NaN</td>\n",
       "    </tr>\n",
       "    <tr>\n",
       "      <th>158</th>\n",
       "      <td>11997</td>\n",
       "      <td>11998</td>\n",
       "      <td>1650.470113</td>\n",
       "      <td>1650.490925</td>\n",
       "      <td>1.554784</td>\n",
       "      <td>inf</td>\n",
       "      <td>1.002869</td>\n",
       "      <td>NaN</td>\n",
       "    </tr>\n",
       "    <tr>\n",
       "      <th>159</th>\n",
       "      <td>12042</td>\n",
       "      <td>12043</td>\n",
       "      <td>1651.407604</td>\n",
       "      <td>1651.428417</td>\n",
       "      <td>4.673310</td>\n",
       "      <td>inf</td>\n",
       "      <td>1.002668</td>\n",
       "      <td>NaN</td>\n",
       "    </tr>\n",
       "  </tbody>\n",
       "</table>\n",
       "<p>160 rows × 8 columns</p>\n",
       "</div>"
      ],
      "text/plain": [
       "     istart  istop       tstart        tstop   ed_rec_s  ed_rec_err  ampl_rec  \\\n",
       "0        34     35  1326.053298  1326.074172   4.856244         inf  1.007793   \n",
       "1        81     82  1327.178295  1327.219982  10.237407         inf  1.005322   \n",
       "2       228    229  1331.261595  1331.282408   4.456886         inf  1.003562   \n",
       "3       247    248  1331.865780  1331.886593   1.958908         inf  1.003061   \n",
       "4       290    291  1333.261589  1333.282402   4.939583         inf  1.005639   \n",
       "5       424    425  1336.449022  1336.469896   2.549359         inf  1.003650   \n",
       "6       458    459  1337.219896  1337.240709   4.076404         inf  1.003667   \n",
       "7       527    528  1340.011525  1340.032338   6.969142         inf  1.006648   \n",
       "8       533    534  1340.136525  1340.157338   4.123705         inf  1.003642   \n",
       "9       619    620  1342.136459  1342.157272   4.023968         inf  1.002778   \n",
       "10      639    643  1342.615645  1342.698958   8.394086         inf  1.004887   \n",
       "11      799    800  1346.303074  1346.323887   2.705174         inf  1.003489   \n",
       "12      960    961  1352.094633  1352.115507   3.843733         inf  1.003392   \n",
       "13      967    968  1352.282133  1352.303007   4.312832         inf  1.003332   \n",
       "14     1066   1067  1355.365439  1355.407126   9.153066         inf  1.004210   \n",
       "15     1116   1117  1356.615431  1356.657057   6.244007         inf  1.004485   \n",
       "16     1154   1155  1357.469551  1357.490425   4.041697         inf  1.005905   \n",
       "17     1569   1572  1368.740254  1368.802753   2.138620         inf  1.004256   \n",
       "18     1589   1590  1369.156878  1369.177752   2.894078         inf  1.003460   \n",
       "19     1769   1770  1373.344359  1373.406859  10.268786         inf  1.004075   \n",
       "20     1811   1812  1374.385981  1374.406855   2.899752         inf  1.002744   \n",
       "21     1824   1825  1374.656854  1374.677667   1.673200         inf  1.002642   \n",
       "22     2022   2024  1379.656719  1379.698406   5.196612         inf  1.009810   \n",
       "23     2090   2095  1386.073284  1386.177470   8.449248         inf  1.004633   \n",
       "24     2150   2152  1387.469152  1387.510778   1.997623         inf  1.005408   \n",
       "25     2481   2489  1397.135633  1397.302320  73.756769         inf  1.022326   \n",
       "26     2631   2632  1400.760616  1400.781429   1.726603         inf  1.002281   \n",
       "27     2652   2653  1401.198114  1401.218927   3.949769         inf  1.003935   \n",
       "28     2790   2791  1404.531410  1404.552223   1.244581         inf  1.002214   \n",
       "29     3055   3056  1416.656280  1416.677093   4.672917         inf  1.007131   \n",
       "..      ...    ...          ...          ...        ...         ...       ...   \n",
       "130   10082  10083  1604.178276  1604.199089   3.153130         inf  1.003426   \n",
       "131   10102  10103  1604.594901  1604.615775   4.357941         inf  1.007597   \n",
       "132   10194  10195  1606.532396  1606.553270   1.991273         inf  1.003830   \n",
       "133   10542  10543  1615.365813  1615.386626   3.422153         inf  1.004208   \n",
       "134   10600  10603  1616.574183  1616.636683  13.920489         inf  1.015023   \n",
       "135   10649  10650  1617.615867  1617.636680   0.373704         inf  1.003764   \n",
       "136   10668  10669  1618.011679  1618.032491   2.963111         inf  1.004783   \n",
       "137   10715  10716  1618.990862  1619.011675   2.487612         inf  1.004094   \n",
       "138   10739  10740  1619.490861  1619.511674   3.814637         inf  1.003665   \n",
       "139   10839  10840  1621.595042  1621.615855   2.509973         inf  1.003708   \n",
       "140   10867  10868  1622.178354  1622.199228   4.082444         inf  1.003540   \n",
       "141   11012  11013  1626.449213  1626.470026  12.055266         inf  1.015771   \n",
       "142   11173  11175  1630.532611  1630.574237  11.496239         inf  1.010040   \n",
       "143   11186  11187  1630.803422  1630.824235   3.624069         inf  1.002698   \n",
       "144   11248  11249  1632.532593  1632.553406   3.735159         inf  1.003481   \n",
       "145   11331  11332  1634.282578  1634.303452   3.721403         inf  1.004025   \n",
       "146   11343  11344  1634.574262  1634.595075   5.706805         inf  1.006988   \n",
       "147   11431  11433  1636.615932  1636.657558   3.367231         inf  1.005731   \n",
       "148   11463  11464  1637.303427  1637.324301   2.971631         inf  1.002758   \n",
       "149   11731  11732  1644.865919  1644.886732   2.761205         inf  1.002765   \n",
       "150   11745  11746  1645.157603  1645.178416   3.204573         inf  1.002651   \n",
       "151   11753  11754  1645.324289  1645.345102   3.361901         inf  1.003719   \n",
       "152   11772  11773  1645.720098  1645.740972   1.100643         inf  1.003516   \n",
       "153   11857  11859  1647.532580  1647.574266   0.645295         inf  1.003599   \n",
       "154   11881  11882  1648.032575  1648.053449   3.639480         inf  1.002716   \n",
       "155   11907  11908  1648.574257  1648.595069   3.309857         inf  1.002824   \n",
       "156   11913  11915  1648.699255  1648.740942   3.216775         inf  1.006455   \n",
       "157   11929  11930  1649.032565  1649.053439   1.329249         inf  1.002876   \n",
       "158   11997  11998  1650.470113  1650.490925   1.554784         inf  1.002869   \n",
       "159   12042  12043  1651.407604  1651.428417   4.673310         inf  1.002668   \n",
       "\n",
       "    energy_ergs  \n",
       "0           NaN  \n",
       "1           NaN  \n",
       "2           NaN  \n",
       "3           NaN  \n",
       "4           NaN  \n",
       "5           NaN  \n",
       "6           NaN  \n",
       "7           NaN  \n",
       "8           NaN  \n",
       "9           NaN  \n",
       "10          NaN  \n",
       "11          NaN  \n",
       "12          NaN  \n",
       "13          NaN  \n",
       "14          NaN  \n",
       "15          NaN  \n",
       "16          NaN  \n",
       "17          NaN  \n",
       "18          NaN  \n",
       "19          NaN  \n",
       "20          NaN  \n",
       "21          NaN  \n",
       "22          NaN  \n",
       "23          NaN  \n",
       "24          NaN  \n",
       "25          NaN  \n",
       "26          NaN  \n",
       "27          NaN  \n",
       "28          NaN  \n",
       "29          NaN  \n",
       "..          ...  \n",
       "130         NaN  \n",
       "131         NaN  \n",
       "132         NaN  \n",
       "133         NaN  \n",
       "134         NaN  \n",
       "135         NaN  \n",
       "136         NaN  \n",
       "137         NaN  \n",
       "138         NaN  \n",
       "139         NaN  \n",
       "140         NaN  \n",
       "141         NaN  \n",
       "142         NaN  \n",
       "143         NaN  \n",
       "144         NaN  \n",
       "145         NaN  \n",
       "146         NaN  \n",
       "147         NaN  \n",
       "148         NaN  \n",
       "149         NaN  \n",
       "150         NaN  \n",
       "151         NaN  \n",
       "152         NaN  \n",
       "153         NaN  \n",
       "154         NaN  \n",
       "155         NaN  \n",
       "156         NaN  \n",
       "157         NaN  \n",
       "158         NaN  \n",
       "159         NaN  \n",
       "\n",
       "[160 rows x 8 columns]"
      ]
     },
     "execution_count": 8,
     "metadata": {},
     "output_type": "execute_result"
    }
   ],
   "source": [
    "ys.flares"
   ]
  },
  {
   "cell_type": "code",
   "execution_count": 9,
   "metadata": {},
   "outputs": [
    {
     "data": {
      "image/png": "[encoded data removed]",
      "text/plain": [
       "<Figure size 864x288 with 1 Axes>"
      ]
     },
     "metadata": {},
     "output_type": "display_data"
    }
   ],
   "source": [
    "plt.figure(figsize=(12,4))\n",
    "plt.plot(ys.time, ys.norm_flux, 'k')\n",
    "plt.xlim(1396,1407)\n",
    "plt.ylim(0.99,1.03)\n",
    "for i,p in ys.flares.iterrows():\n",
    "    plt.plot(ys.time[p.istart:p.istop+1], ys.norm_flux[p.istart:p.istop+1], '*',\n",
    "             ms=10, c='red')\n",
    "    \n",
    "plt.show()"
   ]
  },
  {
   "cell_type": "markdown",
   "metadata": {},
   "source": [
    "# Let's fit a transit"
   ]
  },
  {
   "cell_type": "code",
   "execution_count": 45,
   "metadata": {},
   "outputs": [],
   "source": [
    "def bls_fitting(t, lc):  \n",
    "    # Make a lightkurve LightCurve object. This will allow us to easily flatten our light curve.\n",
    "    lk = LC(time=t, flux=lc)\n",
    "    lc_filt = lk.flatten(window_length=51).flux\n",
    "\n",
    "\n",
    "    # Create BLS Object:\n",
    "    #     BLS will fit an array of transit duration times.\n",
    "    #     You also can pass in a minimum and maximum period, given in days.\n",
    "    durations = np.linspace(0.05, 0.2, 10)\n",
    "    model     = BLS(t, lc_filt)\n",
    "    results   = model.autopower(durations, frequency_factor=5.0,\n",
    "                                maximum_period=15)\n",
    "    \n",
    "    # Find the period and duration from the maximum power peak\n",
    "    period = results.period[np.argmax(results.power)]\n",
    "    dur = results.duration[np.argmax(results.power)]\n",
    "    \n",
    "    # Find the transit time\n",
    "    t0 = results.transit_time[np.argmax(results.power)]\n",
    "    \n",
    "    # Fold the light curve over the transit time\n",
    "    t_fold = (t - t0 + 0.5*period) % period - 0.5*period\n",
    "    \n",
    "    # EVERYTHING BEYOND HERE IN THE FUNCTION IS FOR PLOTTING PURPOSES\n",
    "    fig, (ax1, ax2, ax3) = plt.subplots(ncols=1,nrows=3, figsize=(16,11))\n",
    "\n",
    "    ax2.axvline(period, color='goldenrod', alpha=0.4, lw=5)\n",
    "    for n in range(2, 10):\n",
    "        ax2.axvline(n*period, alpha=0.4, lw=1, linestyle=\"dashed\")\n",
    "        ax2.axvline(period / n, alpha=0.4, lw=1, linestyle=\"dashed\")\n",
    "\n",
    "    ax2.plot(results.period, results.power, \"k\", lw=1)\n",
    "\n",
    "    ax2.set_xlim(np.min(results.period), np.max(results.period))\n",
    "    ax2.set_xlabel(\"period [days]\")\n",
    "    ax2.set_ylabel(\"log likelihood\")\n",
    "\n",
    "    ax1.plot(t, lc_filt, '.', color=\"midnightblue\")\n",
    "\n",
    "    ax3.plot(t_fold, lc_filt, 'k.')\n",
    "    ax3.set_xlim(-4*dur, 4*dur)\n",
    "    plt.show()\n",
    "    \n",
    "    return period, t0, t_fold, lc_filt"
   ]
  },
  {
   "cell_type": "code",
   "execution_count": 48,
   "metadata": {},
   "outputs": [
    {
     "name": "stdout",
     "output_type": "stream",
     "text": [
      "Downloading URL https://mast.stsci.edu/tesscut/api/v0.1/astrocut?ra=11.940349461979&dec=-62.4231233686377&y=31&x=31&units=px&sector=1 to /Users/AdinaFeinstein/.eleanor/tesscut/tesscut_20190725093748.zip ... [Done]\n",
      "Inflating...\n"
     ]
    }
   ],
   "source": [
    "star = eleanor.Source(tic=234504626, tc=True, sector=1)\n",
    "data = eleanor.TargetData(star, do_pca=True, save_postcard=False)"
   ]
  },
  {
   "cell_type": "code",
   "execution_count": 49,
   "metadata": {},
   "outputs": [
    {
     "data": {
      "image/png": "[encoded data removed]",
      "text/plain": [
       "<Figure size 1152x792 with 3 Axes>"
      ]
     },
     "metadata": {},
     "output_type": "display_data"
    }
   ],
   "source": [
    "q = data.quality == 0\n",
    "period_guess, t0_guess, x_fold, y = bls_fitting(data.time[q], data.corr_flux[q])\n",
    "x = data.time[q]"
   ]
  },
  {
   "cell_type": "markdown",
   "metadata": {},
   "source": [
    "# The $\\texttt{eleanor}$ team\n",
    "<img src=\"./figures/da_squad.jpg\" alt=\"Team\" style=\"width: 400px;\"/>"
   ]
  },
  {
   "cell_type": "markdown",
   "metadata": {},
   "source": [
    "# Potentially Useful Links\n",
    "\n",
    "[eleanor Github](https://github.com/afeinstein20/eleanor) /\n",
    "[stella Github](https://github.com/afeinstein20/stella)\n",
    "\n",
    "[eleanor Documentation](https://adina.feinste.in/eleanor)\n",
    "\n",
    "[eleanor Paper arXiv Link](https://arxiv.org/abs/1903.09152)"
   ]
  },
  {
   "cell_type": "markdown",
   "metadata": {},
   "source": [
    "# Now you try!"
   ]
  },
  {
   "cell_type": "markdown",
   "metadata": {},
   "source": [
    "TIC 139771134\n",
    "\n",
    "Gaia 6582115549524788480 (Hint: You do not need to look up the associated TIC ID or coordinates for this source.)\n",
    "\n",
    "RA, Dec = 04:35:54.594, -66.133666\n",
    "\n",
    "TIC 260304296\n",
    "\n",
    "RA, Dec = 113.593357, -64.936218\n",
    "\n",
    "Guiding questions:\n",
    "\n",
    "    1. Which have been observed in both Sectors 1 & 2?\n",
    "    2. Which have potential new planet candidate transits?\n",
    "    3. Which option of flux gives the clearest signal of a transit?\n",
    "    \n",
    "Currently, all sectors are available with TESSCut and $\\texttt{eleanor}$. We're working on shipping over the final $\\texttt{eleanor}$ postcards to MAST over the next few weeks and then we'll being processing our TPFs and light curves!"
   ]
  }
 ],
 "metadata": {
  "kernelspec": {
   "display_name": "Python 3",
   "language": "python",
   "name": "python3"
  },
  "language_info": {
   "codemirror_mode": {
    "name": "ipython",
    "version": 3
   },
   "file_extension": ".py",
   "mimetype": "text/x-python",
   "name": "python",
   "nbconvert_exporter": "python",
   "pygments_lexer": "ipython3",
   "version": "3.6.5"
  }
 },
 "nbformat": 4,
 "nbformat_minor": 2
}
